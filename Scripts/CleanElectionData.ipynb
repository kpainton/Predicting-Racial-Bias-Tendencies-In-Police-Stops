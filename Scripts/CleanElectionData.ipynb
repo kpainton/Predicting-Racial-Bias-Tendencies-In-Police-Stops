{
 "cells": [
  {
   "cell_type": "markdown",
   "metadata": {},
   "source": [
    "# Clean Election Data File"
   ]
  },
  {
   "cell_type": "code",
   "execution_count": 1,
   "metadata": {},
   "outputs": [],
   "source": [
    "import pandas as pd"
   ]
  },
  {
   "cell_type": "code",
   "execution_count": 2,
   "metadata": {},
   "outputs": [],
   "source": [
    "files = [r'2016ElectionResults_rawData.csv', r'2012ElectionResults_rawData.csv', '2008ElectionResults_rawData.csv']"
   ]
  },
  {
   "cell_type": "code",
   "execution_count": 6,
   "metadata": {},
   "outputs": [],
   "source": [
    "# Loops through each file with election Results \n",
    "for file in files:\n",
    "    df = pd.read_csv(file, encoding = 'cp1252')\n",
    "    clean = df.drop(['JurisdictionName'], axis = 1)\n",
    "    clean = df.drop(clean[clean['Race'] != 'United States President/Vice President'].index)\n",
    "    clean['Race'] = clean['Race'].str.replace('United States President/Vice President', 'Presidential')\n",
    "    \n",
    "    # Assigns each unique response to a specific party\n",
    "    clean['Party'] = clean['Party'].str.replace('Democratic Party Nominees', 'Democratic')\n",
    "    clean['Party'] = clean['Party'].str.replace('(', '')\n",
    "    clean['Party'] = clean['Party'].str.replace(')', '')\n",
    "    clean['Party'] = clean['Party'].str.replace('Prefers Democrat Party', 'Democratic')\n",
    "    clean['Party'] = clean['Party'].str.replace('States No Party Preference', 'Other')\n",
    "    clean['Party'] = clean['Party'].str.replace('Prefers G.O.P. Party', 'Republican')\n",
    "    clean['Party'] = clean['Party'].str.replace('Republican Party Nominees', 'Republican')\n",
    "    clean['Party'] = clean['Party'].str.replace('Socialist Workers Party Nominees', 'Other')\n",
    "    clean['Party'] = clean['Party'].str.replace('Green Party Nominees', 'Other')\n",
    "    clean['Party'] = clean['Party'].str.replace('Socialism &amp; Liberation Party Nominees', 'Other')\n",
    "    clean['Party'] = clean['Party'].str.replace('Libertarian Party Nominees', 'Other')\n",
    "    clean['Party'] = clean['Party'].str.replace('Constitution Party Nominees', 'Other')\n",
    "    clean['Party'] = clean['Party'].str.replace('Justice Party Nominees', 'Other')\n",
    "    clean['Party'] = clean['Party'].str.replace('Independent', 'Other')\n",
    "    clean['Party'] = clean['Party'].str.replace('Socialism & Liberation Party Nominees', 'Other')\n",
    "    clean['Party'] = clean['Party'].str.replace('Other Candidates', 'Other')\n",
    "    clean = clean.groupby(['County', 'Party'])['Votes', 'PercentageOfTotalVotes'].sum().reset_index()\n",
    "    \n",
    "    # Saves each file to an updated cleaned file name\n",
    "    if file == '2016ElectionResults_rawData.csv': \n",
    "        clean.to_csv('2016ElectionResults_cleanData.csv', \n",
    "                      index = False)\n",
    "    elif file == '2012ElectionResults_rawData.csv':\n",
    "        clean.to_csv('2012ElectionResults_cleanData.csv', \n",
    "                      index = False)\n",
    "    else: \n",
    "        clean.to_csv('2008ElectionResults_cleanData.csv',\n",
    "                      index = False)"
   ]
  }
 ],
 "metadata": {
  "kernelspec": {
   "display_name": "Python 3",
   "language": "python",
   "name": "python3"
  },
  "language_info": {
   "codemirror_mode": {
    "name": "ipython",
    "version": 3
   },
   "file_extension": ".py",
   "mimetype": "text/x-python",
   "name": "python",
   "nbconvert_exporter": "python",
   "pygments_lexer": "ipython3",
   "version": "3.7.6"
  }
 },
 "nbformat": 4,
 "nbformat_minor": 2
}
