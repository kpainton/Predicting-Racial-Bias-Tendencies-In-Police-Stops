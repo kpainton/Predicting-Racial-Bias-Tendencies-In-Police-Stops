{
 "cells": [
  {
   "cell_type": "markdown",
   "metadata": {},
   "source": [
    "# Web Scraping for Washington State Demographic Data"
   ]
  },
  {
   "cell_type": "code",
   "execution_count": 1,
   "metadata": {},
   "outputs": [],
   "source": [
    "# Loads all packages necessary for this script\n",
    "import requests\n",
    "import pandas as pd\n",
    "from bs4 import BeautifulSoup"
   ]
  },
  {
   "cell_type": "code",
   "execution_count": 2,
   "metadata": {},
   "outputs": [],
   "source": [
    "# Stored URLS for the different Washington State Counties \n",
    "urls = ['https://www.census.gov/quickfacts/fact/table/adamscountywashington/PST045217',\n",
    "       'https://www.census.gov/quickfacts/fact/table/asotincountywashington/PST045217',\n",
    "       'https://www.census.gov/quickfacts/fact/table/bentoncountywashington/PST045217',\n",
    "       'https://www.census.gov/quickfacts/fact/table/chelancountywashington/PST045217',\n",
    "       'https://www.census.gov/quickfacts/fact/table/clarkcountywashington/PST045217',\n",
    "       'https://www.census.gov/quickfacts/fact/table/columbiacountywashington/PST045217',\n",
    "       'https://www.census.gov/quickfacts/fact/table/cowlitzcountywashington/PST045217',\n",
    "       'https://www.census.gov/quickfacts/fact/table/douglascountywashington/PST045217',\n",
    "       'https://www.census.gov/quickfacts/fact/table/ferrycountywashington/PST045217',\n",
    "       'https://www.census.gov/quickfacts/fact/table/franklincountywashington/PST045217',\n",
    "       'https://www.census.gov/quickfacts/fact/table/garfieldcountywashington/PST045217',\n",
    "       'https://www.census.gov/quickfacts/fact/table/grantcountywashington/PST045217',\n",
    "       'https://www.census.gov/quickfacts/fact/table/islandcountywashington/PST045217',\n",
    "       'https://www.census.gov/quickfacts/fact/table/jeffersoncountywashington/PST045217',\n",
    "       'https://www.census.gov/quickfacts/fact/table/kingcountywashington/PST045217',\n",
    "       'https://www.census.gov/quickfacts/fact/table/kitsapcountywashington/PST045217',\n",
    "       'https://www.census.gov/quickfacts/fact/table/kittitascountywashington/PST045217',\n",
    "       'https://www.census.gov/quickfacts/fact/table/klickitatcountywashington/PST045217',\n",
    "       'https://www.census.gov/quickfacts/fact/table/lewiscountywashington/PST045217',\n",
    "       'https://www.census.gov/quickfacts/fact/table/lincolncountywashington/PST045217',\n",
    "       'https://www.census.gov/quickfacts/fact/table/masoncountywashington/PST045217',\n",
    "       'https://www.census.gov/quickfacts/fact/table/okanogancountywashington/PST045217',\n",
    "       'https://www.census.gov/quickfacts/fact/table/pacificcountywashington/PST045217',\n",
    "       'https://www.census.gov/quickfacts/fact/table/pendoreillecountywashington/PST045217',\n",
    "       'https://www.census.gov/quickfacts/fact/table/piercecountywashington/PST045217',\n",
    "       'https://www.census.gov/quickfacts/fact/table/sanjuancountywashington/PST045217',\n",
    "       'https://www.census.gov/quickfacts/fact/table/skagitcountywashington/PST045217',\n",
    "       'https://www.census.gov/quickfacts/fact/table/skamaniacountywashington/PST045217',\n",
    "       'https://www.census.gov/quickfacts/fact/table/snohomishcountywashington/PST045217',\n",
    "       'https://www.census.gov/quickfacts/fact/table/spokanecountywashington/PST045217',\n",
    "       'https://www.census.gov/quickfacts/fact/table/stevenscountywashington/PST045217',\n",
    "       'https://www.census.gov/quickfacts/fact/table/thurstoncountywashington/PST045217',\n",
    "       'https://www.census.gov/quickfacts/fact/table/wahkiakumcountywashington/PST045217',\n",
    "       'https://www.census.gov/quickfacts/fact/table/wallawallacountywashington/PST045217',\n",
    "       'https://www.census.gov/quickfacts/fact/table/whatcomcountywashington/PST045217',\n",
    "       'https://www.census.gov/quickfacts/fact/table/whitmancountywashington/PST045217',\n",
    "       'https://www.census.gov/quickfacts/fact/table/yakimacountywashington/PST045217']"
   ]
  },
  {
   "cell_type": "code",
   "execution_count": 3,
   "metadata": {},
   "outputs": [],
   "source": [
    "demo_info = []\n",
    "\n",
    "# Loops through all urls to find demographic data\n",
    "for x in range(len(urls)):\n",
    "    current_url = urls[x]\n",
    "    current_site = requests.get(current_url)\n",
    "    \n",
    "    # Uses BeautifulSoup pagcakge for html parsing\n",
    "    current_page = BeautifulSoup(current_site.text, 'html.parser')\n",
    "    current_titles = current_page.find_all('div', attrs = {'class':'qf-titlebar'})\n",
    "\n",
    "    # Gathers the titles for the County \n",
    "    for current_title in current_titles:\n",
    "        current_titles = current_title.find('h2').text\n",
    "        \n",
    "    # Finds the population totals for each county \n",
    "    population_totals = current_page.find_all('tr', attrs = {'class':'fact selected'})\n",
    "    for population_total in population_totals:\n",
    "        population_totals = population_total.contents[3].text\n",
    "    \n",
    "    # Finds the different race compositions of each county (along with percent makeup)\n",
    "    race_breakdowns = current_page.find_all()\n",
    "    race_breakdowns = current_page.find_all('tbody', attrs = {'data-topic' : 'Race and Hispanic Origin'})\n",
    "    for race_breakdown in race_breakdowns:\n",
    "        hopes = race_breakdown.find_all('tr', attrs = {'data-unit':'PCT'})\n",
    "        for hope in hopes:\n",
    "            race = hope.find('a')['data-title']\n",
    "            percent = hope.contents[3].text\n",
    "            demo_info.append((current_titles, population_totals, race, percent))"
   ]
  },
  {
   "cell_type": "code",
   "execution_count": 5,
   "metadata": {},
   "outputs": [],
   "source": [
    "# Creates dataframe from demographic info list\n",
    "demo_df = pd.DataFrame(demo_info, \n",
    "                              columns = ['county', 'population', 'race', 'percentage'])\n",
    "\n",
    "# Exports dataframe to CSV file\n",
    "demo_df.to_csv('demographics_rawData.csv', \n",
    "                      index = False)"
   ]
  }
 ],
 "metadata": {
  "kernelspec": {
   "display_name": "Python 3",
   "language": "python",
   "name": "python3"
  },
  "language_info": {
   "codemirror_mode": {
    "name": "ipython",
    "version": 3
   },
   "file_extension": ".py",
   "mimetype": "text/x-python",
   "name": "python",
   "nbconvert_exporter": "python",
   "pygments_lexer": "ipython3",
   "version": "3.7.6"
  }
 },
 "nbformat": 4,
 "nbformat_minor": 2
}
